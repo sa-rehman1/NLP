{
 "cells": [
  {
   "cell_type": "markdown",
   "id": "e033e502",
   "metadata": {},
   "source": [
    "## Name Entity Recognition(NER)"
   ]
  },
  {
   "cell_type": "markdown",
   "id": "941eef73",
   "metadata": {},
   "source": [
    "Named Entity Recognition (NER) is a natural language processing (NLP) technique that aims to identify and classify named entities within a text into predefined categories such as the names of persons, organizations, locations, expressions of times, quantities, monetary values, percentages, etc. The primary goal of NER is to extract and label these entities to provide structure and meaning to unstructured text data.\n",
    "\n",
    "For instance, in the sentence \"John works at Google in California\", NER would identify \"John\" as a PERSON entity, \"Google\" as an ORGANIZATION entity, and \"California\" as a LOCATION entity."
   ]
  },
  {
   "cell_type": "code",
   "execution_count": 1,
   "id": "d4696adb",
   "metadata": {},
   "outputs": [],
   "source": [
    "#Example text\n",
    "txt=\"\"\"\n",
    "John Smith works at XYZ Corporation located in New York City.\n",
    "He is currently leading a project on artificial intelligence. \n",
    "Last week, he attended a conference on machine learning in San Francisco.\n",
    "His colleague, Sarah Johnson, presented their team's research on natural language processing.\n",
    "\"\"\""
   ]
  },
  {
   "cell_type": "markdown",
   "id": "4214a908",
   "metadata": {},
   "source": [
    "SPACY Library\n",
    "\n",
    "\n",
    "SpaCy is an open-source natural language processing (NLP) library designed to help developers build applications that process and understand large volumes of text data. It is written in Python and offers efficient implementations of various NLP tasks, including tokenization, part-of-speech tagging, named entity recognition (NER), dependency parsing, and more."
   ]
  },
  {
   "cell_type": "code",
   "execution_count": 2,
   "id": "1bd8f6fe",
   "metadata": {},
   "outputs": [],
   "source": [
    "import spacy"
   ]
  },
  {
   "cell_type": "code",
   "execution_count": 3,
   "id": "e4261db4",
   "metadata": {},
   "outputs": [],
   "source": [
    "nlp=spacy.load('en_core_web_sm')"
   ]
  },
  {
   "cell_type": "markdown",
   "id": "eabf38d7",
   "metadata": {},
   "source": [
    "[language][type][genre][size]  \n",
    "en-english  \n",
    "core- contains general vocabulary and entities)    \n",
    "genre- place from where the text was extracted)  \n",
    "size- small"
   ]
  },
  {
   "cell_type": "code",
   "execution_count": 4,
   "id": "679b193e",
   "metadata": {},
   "outputs": [],
   "source": [
    "doc=nlp(txt)"
   ]
  },
  {
   "cell_type": "code",
   "execution_count": 5,
   "id": "1a5cc879",
   "metadata": {},
   "outputs": [
    {
     "name": "stdout",
     "output_type": "stream",
     "text": [
      "\n",
      "John Smith works at XYZ Corporation located in New York City.\n",
      "He is currently leading a project on artificial intelligence. \n",
      "Last week, he attended a conference on machine learning in San Francisco.\n",
      "His colleague, Sarah Johnson, presented their team's research on natural language processing.\n",
      "\n"
     ]
    }
   ],
   "source": [
    "print(doc)"
   ]
  },
  {
   "cell_type": "markdown",
   "id": "c9ce4573",
   "metadata": {},
   "source": [
    "As we can see we cannot directly print the entities in the  sentence so we use the \"displacy.render\" function from the spacy library"
   ]
  },
  {
   "cell_type": "code",
   "execution_count": 6,
   "id": "1a62753c",
   "metadata": {},
   "outputs": [
    {
     "data": {
      "text/html": [
       "<span class=\"tex2jax_ignore\"><div class=\"entities\" style=\"line-height: 2.5; direction: ltr\"><br>\n",
       "<mark class=\"entity\" style=\"background: #aa9cfc; padding: 0.45em 0.6em; margin: 0 0.25em; line-height: 1; border-radius: 0.35em;\">\n",
       "    John Smith\n",
       "    <span style=\"font-size: 0.8em; font-weight: bold; line-height: 1; border-radius: 0.35em; vertical-align: middle; margin-left: 0.5rem\">PERSON</span>\n",
       "</mark>\n",
       " works at \n",
       "<mark class=\"entity\" style=\"background: #7aecec; padding: 0.45em 0.6em; margin: 0 0.25em; line-height: 1; border-radius: 0.35em;\">\n",
       "    XYZ Corporation\n",
       "    <span style=\"font-size: 0.8em; font-weight: bold; line-height: 1; border-radius: 0.35em; vertical-align: middle; margin-left: 0.5rem\">ORG</span>\n",
       "</mark>\n",
       " located in \n",
       "<mark class=\"entity\" style=\"background: #feca74; padding: 0.45em 0.6em; margin: 0 0.25em; line-height: 1; border-radius: 0.35em;\">\n",
       "    New York City\n",
       "    <span style=\"font-size: 0.8em; font-weight: bold; line-height: 1; border-radius: 0.35em; vertical-align: middle; margin-left: 0.5rem\">GPE</span>\n",
       "</mark>\n",
       ".<br>He is currently leading a project on artificial intelligence. <br>\n",
       "<mark class=\"entity\" style=\"background: #bfe1d9; padding: 0.45em 0.6em; margin: 0 0.25em; line-height: 1; border-radius: 0.35em;\">\n",
       "    Last week\n",
       "    <span style=\"font-size: 0.8em; font-weight: bold; line-height: 1; border-radius: 0.35em; vertical-align: middle; margin-left: 0.5rem\">DATE</span>\n",
       "</mark>\n",
       ", he attended a conference on machine learning in \n",
       "<mark class=\"entity\" style=\"background: #feca74; padding: 0.45em 0.6em; margin: 0 0.25em; line-height: 1; border-radius: 0.35em;\">\n",
       "    San Francisco\n",
       "    <span style=\"font-size: 0.8em; font-weight: bold; line-height: 1; border-radius: 0.35em; vertical-align: middle; margin-left: 0.5rem\">GPE</span>\n",
       "</mark>\n",
       ".<br>His colleague, \n",
       "<mark class=\"entity\" style=\"background: #aa9cfc; padding: 0.45em 0.6em; margin: 0 0.25em; line-height: 1; border-radius: 0.35em;\">\n",
       "    Sarah Johnson\n",
       "    <span style=\"font-size: 0.8em; font-weight: bold; line-height: 1; border-radius: 0.35em; vertical-align: middle; margin-left: 0.5rem\">PERSON</span>\n",
       "</mark>\n",
       ", presented their team's research on natural language processing.<br></div></span>"
      ],
      "text/plain": [
       "<IPython.core.display.HTML object>"
      ]
     },
     "metadata": {},
     "output_type": "display_data"
    }
   ],
   "source": [
    "spacy.displacy.render(doc,style=\"ent\")"
   ]
  },
  {
   "cell_type": "code",
   "execution_count": 7,
   "id": "dfea0060",
   "metadata": {},
   "outputs": [
    {
     "data": {
      "text/plain": [
       "'Companies, agencies, institutions, etc.'"
      ]
     },
     "execution_count": 7,
     "metadata": {},
     "output_type": "execute_result"
    }
   ],
   "source": [
    "#Now to understand this entities we can use explain function\n",
    "spacy.explain(\"ORG\")"
   ]
  },
  {
   "cell_type": "code",
   "execution_count": 8,
   "id": "5da43504",
   "metadata": {},
   "outputs": [
    {
     "data": {
      "text/plain": [
       "'Countries, cities, states'"
      ]
     },
     "execution_count": 8,
     "metadata": {},
     "output_type": "execute_result"
    }
   ],
   "source": [
    "spacy.explain(\"GPE\")"
   ]
  },
  {
   "cell_type": "code",
   "execution_count": 9,
   "id": "c9a95356",
   "metadata": {},
   "outputs": [
    {
     "data": {
      "text/plain": [
       "(John Smith,\n",
       " XYZ Corporation,\n",
       " New York City,\n",
       " Last week,\n",
       " San Francisco,\n",
       " Sarah Johnson)"
      ]
     },
     "execution_count": 9,
     "metadata": {},
     "output_type": "execute_result"
    }
   ],
   "source": [
    "#To print all the entities in the text we use ents attribute\n",
    "doc.ents"
   ]
  },
  {
   "cell_type": "code",
   "execution_count": 10,
   "id": "796e965e",
   "metadata": {},
   "outputs": [
    {
     "name": "stdout",
     "output_type": "stream",
     "text": [
      "PERSON:John Smith\n",
      "ORG:XYZ Corporation\n",
      "GPE:New York City\n",
      "DATE:Last week\n",
      "GPE:San Francisco\n",
      "PERSON:Sarah Johnson\n"
     ]
    }
   ],
   "source": [
    "#Looping through all the entitites\n",
    "for entity in doc.ents:\n",
    "    print(f\"{entity.label_}:{entity.text}\")\n",
    "            #label_ returns the type of entity and text returns the actual entity"
   ]
  },
  {
   "cell_type": "code",
   "execution_count": 11,
   "id": "3a0e1056",
   "metadata": {},
   "outputs": [],
   "source": [
    "#Storing all the organizations in a seperate list\n",
    "org_list=[]\n",
    "\n",
    "for entity in doc.ents:\n",
    "    if entity.label_=='ORG':\n",
    "        org_list.append(entity.text)"
   ]
  },
  {
   "cell_type": "code",
   "execution_count": 12,
   "id": "ed5923c6",
   "metadata": {},
   "outputs": [
    {
     "data": {
      "text/plain": [
       "['XYZ Corporation']"
      ]
     },
     "execution_count": 12,
     "metadata": {},
     "output_type": "execute_result"
    }
   ],
   "source": [
    "org_list"
   ]
  },
  {
   "cell_type": "markdown",
   "id": "0900b814",
   "metadata": {},
   "source": [
    "## Assignment"
   ]
  },
  {
   "cell_type": "markdown",
   "id": "cbb326fe",
   "metadata": {},
   "source": [
    "Do the same steps as above for the given sentence"
   ]
  },
  {
   "cell_type": "code",
   "execution_count": 13,
   "id": "5a07a582",
   "metadata": {},
   "outputs": [],
   "source": [
    "txt=\"Apple reached an all-time high stock price of 143 dollars this january\""
   ]
  },
  {
   "cell_type": "code",
   "execution_count": 14,
   "id": "20b2a7f4",
   "metadata": {},
   "outputs": [],
   "source": [
    "import spacy"
   ]
  },
  {
   "cell_type": "code",
   "execution_count": 15,
   "id": "db80bbee",
   "metadata": {},
   "outputs": [],
   "source": [
    "nlp=spacy.load(\"en_core_web_sm\")"
   ]
  },
  {
   "cell_type": "code",
   "execution_count": 16,
   "id": "facf1ff5",
   "metadata": {},
   "outputs": [],
   "source": [
    "doc=nlp(txt)"
   ]
  },
  {
   "cell_type": "code",
   "execution_count": 17,
   "id": "b2f487ee",
   "metadata": {},
   "outputs": [
    {
     "name": "stdout",
     "output_type": "stream",
     "text": [
      "Apple reached an all-time high stock price of 143 dollars this january\n"
     ]
    }
   ],
   "source": [
    "print(doc)"
   ]
  },
  {
   "cell_type": "code",
   "execution_count": 18,
   "id": "9b3fdd0c",
   "metadata": {},
   "outputs": [
    {
     "data": {
      "text/html": [
       "<span class=\"tex2jax_ignore\"><div class=\"entities\" style=\"line-height: 2.5; direction: ltr\">\n",
       "<mark class=\"entity\" style=\"background: #7aecec; padding: 0.45em 0.6em; margin: 0 0.25em; line-height: 1; border-radius: 0.35em;\">\n",
       "    Apple\n",
       "    <span style=\"font-size: 0.8em; font-weight: bold; line-height: 1; border-radius: 0.35em; vertical-align: middle; margin-left: 0.5rem\">ORG</span>\n",
       "</mark>\n",
       " reached an all-time high stock price of \n",
       "<mark class=\"entity\" style=\"background: #e4e7d2; padding: 0.45em 0.6em; margin: 0 0.25em; line-height: 1; border-radius: 0.35em;\">\n",
       "    143 dollars\n",
       "    <span style=\"font-size: 0.8em; font-weight: bold; line-height: 1; border-radius: 0.35em; vertical-align: middle; margin-left: 0.5rem\">MONEY</span>\n",
       "</mark>\n",
       " this january</div></span>"
      ],
      "text/plain": [
       "<IPython.core.display.HTML object>"
      ]
     },
     "metadata": {},
     "output_type": "display_data"
    }
   ],
   "source": [
    "spacy.displacy.render(doc,\"ent\")"
   ]
  },
  {
   "cell_type": "code",
   "execution_count": 19,
   "id": "bb0e692a",
   "metadata": {},
   "outputs": [
    {
     "data": {
      "text/plain": [
       "'Monetary values, including unit'"
      ]
     },
     "execution_count": 19,
     "metadata": {},
     "output_type": "execute_result"
    }
   ],
   "source": [
    "spacy.explain(\"MONEY\")"
   ]
  },
  {
   "cell_type": "code",
   "execution_count": 20,
   "id": "9376a245",
   "metadata": {},
   "outputs": [
    {
     "data": {
      "text/plain": [
       "(Apple, 143 dollars)"
      ]
     },
     "execution_count": 20,
     "metadata": {},
     "output_type": "execute_result"
    }
   ],
   "source": [
    "doc.ents"
   ]
  },
  {
   "cell_type": "code",
   "execution_count": 21,
   "id": "570dcebf",
   "metadata": {},
   "outputs": [],
   "source": [
    "ents=[]\n",
    "entities=doc.ents\n",
    "for entity in entities:\n",
    "    ents.append(entity.text)"
   ]
  },
  {
   "cell_type": "code",
   "execution_count": 22,
   "id": "c8bae24c",
   "metadata": {},
   "outputs": [
    {
     "data": {
      "text/plain": [
       "['Apple', '143 dollars']"
      ]
     },
     "execution_count": 22,
     "metadata": {},
     "output_type": "execute_result"
    }
   ],
   "source": [
    "ents"
   ]
  },
  {
   "cell_type": "code",
   "execution_count": 23,
   "id": "23305ddb",
   "metadata": {},
   "outputs": [],
   "source": [
    "#Practice for longer text and counting the entities\n",
    "text=\"\"\"\n",
    "Tech giants like Google, Microsoft, and Amazon are constantly innovating in the field of artificial intelligence. Meanwhile, startups such as DeepMind, OpenAI, and Neuralink are pushing the boundaries of machine learning. The academic world also plays a significant role, with institutions like MIT, Stanford, and Oxford leading research in natural language processing.\n",
    "\n",
    "In the business world, mergers and acquisitions are reshaping industries. Recently, IBM acquired Red Hat for a record-breaking sum. This move is expected to strengthen IBM's position in the cloud computing market. Meanwhile, Salesforce continues its expansion strategy, acquiring companies like Slack and Tableau to enhance its suite of products.\n",
    "\n",
    "The financial sector is also witnessing significant activity. Banks like JPMorgan Chase, Goldman Sachs, and Citigroup are investing heavily in blockchain technology to improve security and efficiency. Fintech startups like Stripe and Robinhood are disrupting traditional banking with innovative payment solutions and commission-free trading platforms.\n",
    "\n",
    "In healthcare, pharmaceutical companies like Pfizer, Johnson & Johnson, and Novartis are racing to develop vaccines and treatments for various diseases. Biotech startups such as Moderna and BioNTech have gained attention for their mRNA vaccine technology, which has shown promising results against COVID-19.\n",
    "\n",
    "In the entertainment industry, studios like Disney, Warner Bros., and Netflix are investing billions in original content production to attract subscribers to their streaming platforms. Gaming companies like Electronic Arts, Activision Blizzard, and Epic Games are also capitalizing on the growing demand for interactive entertainment.\n",
    "\n",
    "Overall, organizations across different sectors are leveraging technology and innovation to stay competitive in today's rapidly evolving landscape.\n",
    "\n",
    "\"\"\""
   ]
  },
  {
   "cell_type": "code",
   "execution_count": 24,
   "id": "18e5a129",
   "metadata": {},
   "outputs": [],
   "source": [
    "model=spacy.load(\"en_core_web_sm\")"
   ]
  },
  {
   "cell_type": "code",
   "execution_count": 25,
   "id": "55dad68b",
   "metadata": {},
   "outputs": [],
   "source": [
    "doc=model(text)"
   ]
  },
  {
   "cell_type": "code",
   "execution_count": 26,
   "id": "cc5f5287",
   "metadata": {},
   "outputs": [],
   "source": [
    "#storing all the organizations in a list\n",
    "organization_list=[]\n",
    "entities=doc.ents\n",
    "for entity in entities:\n",
    "    if entity.label_==\"ORG\":\n",
    "        organization_list.append(entity.text)"
   ]
  },
  {
   "cell_type": "code",
   "execution_count": 27,
   "id": "e56a447b",
   "metadata": {},
   "outputs": [],
   "source": [
    "#Counting the number of occurence of each organization\n",
    "#We use Counter method for this\n",
    "from collections import Counter"
   ]
  },
  {
   "cell_type": "code",
   "execution_count": 28,
   "id": "0abb845d",
   "metadata": {},
   "outputs": [],
   "source": [
    "organization_count=Counter(organization_list)"
   ]
  },
  {
   "cell_type": "code",
   "execution_count": 29,
   "id": "ee188c73",
   "metadata": {},
   "outputs": [
    {
     "data": {
      "text/plain": [
       "[('IBM', 2),\n",
       " ('Google', 1),\n",
       " ('Microsoft', 1),\n",
       " ('Amazon', 1),\n",
       " ('MIT', 1),\n",
       " ('Stanford', 1),\n",
       " ('Oxford', 1),\n",
       " ('Red Hat', 1),\n",
       " ('Goldman Sachs', 1),\n",
       " ('Citigroup', 1),\n",
       " ('Pfizer', 1),\n",
       " ('Johnson & Johnson', 1),\n",
       " ('Novartis', 1),\n",
       " ('COVID-19', 1),\n",
       " ('Disney', 1),\n",
       " ('Warner Bros.', 1),\n",
       " ('Electronic Arts', 1),\n",
       " ('Epic Games', 1)]"
      ]
     },
     "execution_count": 29,
     "metadata": {},
     "output_type": "execute_result"
    }
   ],
   "source": [
    "organization_count.most_common()"
   ]
  },
  {
   "cell_type": "code",
   "execution_count": 30,
   "id": "210e32b2",
   "metadata": {},
   "outputs": [
    {
     "data": {
      "text/plain": [
       "['Google',\n",
       " 'Microsoft',\n",
       " 'Amazon',\n",
       " 'MIT',\n",
       " 'Stanford',\n",
       " 'Oxford',\n",
       " 'IBM',\n",
       " 'Red Hat',\n",
       " 'IBM',\n",
       " 'Goldman Sachs',\n",
       " 'Citigroup',\n",
       " 'Pfizer',\n",
       " 'Johnson & Johnson',\n",
       " 'Novartis',\n",
       " 'COVID-19',\n",
       " 'Disney',\n",
       " 'Warner Bros.',\n",
       " 'Electronic Arts',\n",
       " 'Epic Games']"
      ]
     },
     "execution_count": 30,
     "metadata": {},
     "output_type": "execute_result"
    }
   ],
   "source": [
    "organization_list"
   ]
  },
  {
   "cell_type": "code",
   "execution_count": null,
   "id": "bc1bbf59",
   "metadata": {},
   "outputs": [],
   "source": []
  }
 ],
 "metadata": {
  "kernelspec": {
   "display_name": "Python 3 (ipykernel)",
   "language": "python",
   "name": "python3"
  },
  "language_info": {
   "codemirror_mode": {
    "name": "ipython",
    "version": 3
   },
   "file_extension": ".py",
   "mimetype": "text/x-python",
   "name": "python",
   "nbconvert_exporter": "python",
   "pygments_lexer": "ipython3",
   "version": "3.9.19"
  }
 },
 "nbformat": 4,
 "nbformat_minor": 5
}
