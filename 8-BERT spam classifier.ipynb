{
 "cells": [
  {
   "cell_type": "code",
   "execution_count": 1,
   "id": "46f49531",
   "metadata": {},
   "outputs": [],
   "source": [
    "# !pip install tensorflow_hub tensorflow_text"
   ]
  },
  {
   "cell_type": "code",
   "execution_count": 2,
   "id": "1be742de",
   "metadata": {},
   "outputs": [
    {
     "name": "stderr",
     "output_type": "stream",
     "text": [
      "C:\\Users\\conta\\anaconda3\\lib\\site-packages\\scipy\\__init__.py:146: UserWarning: A NumPy version >=1.16.5 and <1.23.0 is required for this version of SciPy (detected version 1.26.4\n",
      "  warnings.warn(f\"A NumPy version >={np_minversion} and <{np_maxversion}\"\n"
     ]
    }
   ],
   "source": [
    "import pandas as pd\n",
    "import numpy as np\n",
    "import tensorflow as tf\n",
    "import tensorflow_hub as hub\n",
    "import tensorflow_text as text"
   ]
  },
  {
   "cell_type": "code",
   "execution_count": 3,
   "id": "ecca586d",
   "metadata": {},
   "outputs": [],
   "source": [
    "df=pd.read_csv(\"C:/Users/conta/Downloads/BERTspam.csv\")"
   ]
  },
  {
   "cell_type": "code",
   "execution_count": 4,
   "id": "a125b1c7",
   "metadata": {},
   "outputs": [
    {
     "data": {
      "text/html": [
       "<div>\n",
       "<style scoped>\n",
       "    .dataframe tbody tr th:only-of-type {\n",
       "        vertical-align: middle;\n",
       "    }\n",
       "\n",
       "    .dataframe tbody tr th {\n",
       "        vertical-align: top;\n",
       "    }\n",
       "\n",
       "    .dataframe thead th {\n",
       "        text-align: right;\n",
       "    }\n",
       "</style>\n",
       "<table border=\"1\" class=\"dataframe\">\n",
       "  <thead>\n",
       "    <tr style=\"text-align: right;\">\n",
       "      <th></th>\n",
       "      <th>Category</th>\n",
       "      <th>Message</th>\n",
       "    </tr>\n",
       "  </thead>\n",
       "  <tbody>\n",
       "    <tr>\n",
       "      <th>0</th>\n",
       "      <td>ham</td>\n",
       "      <td>Go until jurong point, crazy.. Available only ...</td>\n",
       "    </tr>\n",
       "    <tr>\n",
       "      <th>1</th>\n",
       "      <td>ham</td>\n",
       "      <td>Ok lar... Joking wif u oni...</td>\n",
       "    </tr>\n",
       "  </tbody>\n",
       "</table>\n",
       "</div>"
      ],
      "text/plain": [
       "  Category                                            Message\n",
       "0      ham  Go until jurong point, crazy.. Available only ...\n",
       "1      ham                      Ok lar... Joking wif u oni..."
      ]
     },
     "execution_count": 4,
     "metadata": {},
     "output_type": "execute_result"
    }
   ],
   "source": [
    "df.head(2)"
   ]
  },
  {
   "cell_type": "code",
   "execution_count": 5,
   "id": "6f9e7105",
   "metadata": {},
   "outputs": [
    {
     "data": {
      "text/plain": [
       "ham     4825\n",
       "spam     747\n",
       "Name: Category, dtype: int64"
      ]
     },
     "execution_count": 5,
     "metadata": {},
     "output_type": "execute_result"
    }
   ],
   "source": [
    "df['Category'].value_counts()"
   ]
  },
  {
   "cell_type": "code",
   "execution_count": 6,
   "id": "f2072875",
   "metadata": {},
   "outputs": [],
   "source": [
    "#Here the the ham emails are more than spam so we do down sampling\n",
    "df_spam=df.loc[df['Category']==\"spam\"]"
   ]
  },
  {
   "cell_type": "code",
   "execution_count": 7,
   "id": "3f5ce559",
   "metadata": {},
   "outputs": [],
   "source": [
    "df_ham=df.loc[df['Category']==\"ham\"].sample(df_spam.shape[0])"
   ]
  },
  {
   "cell_type": "code",
   "execution_count": 8,
   "id": "40cc6d3f",
   "metadata": {},
   "outputs": [
    {
     "name": "stdout",
     "output_type": "stream",
     "text": [
      "(747, 2)\n",
      "(747, 2)\n"
     ]
    }
   ],
   "source": [
    "#Now the shapes are equal so we concatenate this 2\n",
    "print(df_spam.shape)\n",
    "print(df_ham.shape)"
   ]
  },
  {
   "cell_type": "code",
   "execution_count": 9,
   "id": "0ecd4563",
   "metadata": {},
   "outputs": [],
   "source": [
    "df_balanced=pd.concat([df_spam,df_ham])"
   ]
  },
  {
   "cell_type": "code",
   "execution_count": 10,
   "id": "cfc72a5c",
   "metadata": {},
   "outputs": [
    {
     "data": {
      "text/html": [
       "<div>\n",
       "<style scoped>\n",
       "    .dataframe tbody tr th:only-of-type {\n",
       "        vertical-align: middle;\n",
       "    }\n",
       "\n",
       "    .dataframe tbody tr th {\n",
       "        vertical-align: top;\n",
       "    }\n",
       "\n",
       "    .dataframe thead th {\n",
       "        text-align: right;\n",
       "    }\n",
       "</style>\n",
       "<table border=\"1\" class=\"dataframe\">\n",
       "  <thead>\n",
       "    <tr style=\"text-align: right;\">\n",
       "      <th></th>\n",
       "      <th>Category</th>\n",
       "      <th>Message</th>\n",
       "    </tr>\n",
       "  </thead>\n",
       "  <tbody>\n",
       "    <tr>\n",
       "      <th>2</th>\n",
       "      <td>spam</td>\n",
       "      <td>Free entry in 2 a wkly comp to win FA Cup fina...</td>\n",
       "    </tr>\n",
       "    <tr>\n",
       "      <th>5</th>\n",
       "      <td>spam</td>\n",
       "      <td>FreeMsg Hey there darling it's been 3 week's n...</td>\n",
       "    </tr>\n",
       "    <tr>\n",
       "      <th>8</th>\n",
       "      <td>spam</td>\n",
       "      <td>WINNER!! As a valued network customer you have...</td>\n",
       "    </tr>\n",
       "    <tr>\n",
       "      <th>9</th>\n",
       "      <td>spam</td>\n",
       "      <td>Had your mobile 11 months or more? U R entitle...</td>\n",
       "    </tr>\n",
       "    <tr>\n",
       "      <th>11</th>\n",
       "      <td>spam</td>\n",
       "      <td>SIX chances to win CASH! From 100 to 20,000 po...</td>\n",
       "    </tr>\n",
       "    <tr>\n",
       "      <th>...</th>\n",
       "      <td>...</td>\n",
       "      <td>...</td>\n",
       "    </tr>\n",
       "    <tr>\n",
       "      <th>1085</th>\n",
       "      <td>ham</td>\n",
       "      <td>For me the love should start with attraction.i...</td>\n",
       "    </tr>\n",
       "    <tr>\n",
       "      <th>4615</th>\n",
       "      <td>ham</td>\n",
       "      <td>hows my favourite person today? r u workin har...</td>\n",
       "    </tr>\n",
       "    <tr>\n",
       "      <th>3373</th>\n",
       "      <td>ham</td>\n",
       "      <td>And now electricity just went out fml.</td>\n",
       "    </tr>\n",
       "    <tr>\n",
       "      <th>4860</th>\n",
       "      <td>ham</td>\n",
       "      <td>Hey, a guy I know is breathing down my neck to...</td>\n",
       "    </tr>\n",
       "    <tr>\n",
       "      <th>1359</th>\n",
       "      <td>ham</td>\n",
       "      <td>If i start sending blackberry torch to nigeria...</td>\n",
       "    </tr>\n",
       "  </tbody>\n",
       "</table>\n",
       "<p>1494 rows × 2 columns</p>\n",
       "</div>"
      ],
      "text/plain": [
       "     Category                                            Message\n",
       "2        spam  Free entry in 2 a wkly comp to win FA Cup fina...\n",
       "5        spam  FreeMsg Hey there darling it's been 3 week's n...\n",
       "8        spam  WINNER!! As a valued network customer you have...\n",
       "9        spam  Had your mobile 11 months or more? U R entitle...\n",
       "11       spam  SIX chances to win CASH! From 100 to 20,000 po...\n",
       "...       ...                                                ...\n",
       "1085      ham  For me the love should start with attraction.i...\n",
       "4615      ham  hows my favourite person today? r u workin har...\n",
       "3373      ham             And now electricity just went out fml.\n",
       "4860      ham  Hey, a guy I know is breathing down my neck to...\n",
       "1359      ham  If i start sending blackberry torch to nigeria...\n",
       "\n",
       "[1494 rows x 2 columns]"
      ]
     },
     "execution_count": 10,
     "metadata": {},
     "output_type": "execute_result"
    }
   ],
   "source": [
    "df_balanced"
   ]
  },
  {
   "cell_type": "code",
   "execution_count": 11,
   "id": "dc829456",
   "metadata": {},
   "outputs": [],
   "source": [
    "df_balanced[\"Category\"].replace({\"spam\":1,\"ham\":0},inplace=True)"
   ]
  },
  {
   "cell_type": "code",
   "execution_count": 12,
   "id": "ba514d0a",
   "metadata": {},
   "outputs": [],
   "source": [
    "X=df_balanced[\"Message\"]\n",
    "y=df_balanced[\"Category\"]"
   ]
  },
  {
   "cell_type": "code",
   "execution_count": 13,
   "id": "644794e7",
   "metadata": {},
   "outputs": [
    {
     "data": {
      "text/plain": [
       "2       Free entry in 2 a wkly comp to win FA Cup fina...\n",
       "5       FreeMsg Hey there darling it's been 3 week's n...\n",
       "8       WINNER!! As a valued network customer you have...\n",
       "9       Had your mobile 11 months or more? U R entitle...\n",
       "11      SIX chances to win CASH! From 100 to 20,000 po...\n",
       "                              ...                        \n",
       "1085    For me the love should start with attraction.i...\n",
       "4615    hows my favourite person today? r u workin har...\n",
       "3373               And now electricity just went out fml.\n",
       "4860    Hey, a guy I know is breathing down my neck to...\n",
       "1359    If i start sending blackberry torch to nigeria...\n",
       "Name: Message, Length: 1494, dtype: object"
      ]
     },
     "execution_count": 13,
     "metadata": {},
     "output_type": "execute_result"
    }
   ],
   "source": [
    "X"
   ]
  },
  {
   "cell_type": "code",
   "execution_count": 14,
   "id": "b9491ffb",
   "metadata": {},
   "outputs": [],
   "source": [
    "from sklearn.model_selection import train_test_split\n",
    "X_train,X_test,y_train,y_test=train_test_split(X,y,random_state=20,stratify=df_balanced[\"Category\"])"
   ]
  },
  {
   "cell_type": "code",
   "execution_count": 15,
   "id": "a6c4ea8a",
   "metadata": {},
   "outputs": [],
   "source": [
    "bert_preprocess = hub.KerasLayer(\"https://tfhub.dev/tensorflow/bert_en_uncased_preprocess/3\")\n",
    "bert_encoder = hub.KerasLayer(\"https://tfhub.dev/tensorflow/bert_en_uncased_L-12_H-768_A-12/4\")"
   ]
  },
  {
   "cell_type": "code",
   "execution_count": 16,
   "id": "84839d87",
   "metadata": {},
   "outputs": [],
   "source": [
    "#Just for testing we are writing this function can move forward to building the model\n",
    "def get_sentence_embeddings(sentences):\n",
    "    preprocessed_text=bert_preprocess(sentences)\n",
    "    embedded_text=bert_encoder(preprocessed_text)\n",
    "    return embedded_text[\"pooled_output\"]"
   ]
  },
  {
   "cell_type": "code",
   "execution_count": 17,
   "id": "7405fee5",
   "metadata": {},
   "outputs": [],
   "source": [
    "#Example\n",
    "# get_sentence_embeddings([\"Free entry in 2 a wkly comp to win FA Cup final\",\"Not a lot has happened here. \"])"
   ]
  },
  {
   "cell_type": "code",
   "execution_count": 18,
   "id": "f425d5c6",
   "metadata": {},
   "outputs": [],
   "source": [
    "from sklearn.metrics.pairwise import cosine_similarity"
   ]
  },
  {
   "cell_type": "code",
   "execution_count": 19,
   "id": "5f396ccc",
   "metadata": {},
   "outputs": [],
   "source": [
    "from keras.layers import Dense,Dropout,Input\n",
    "import keras\n",
    "import tensorflow as tf"
   ]
  },
  {
   "cell_type": "code",
   "execution_count": 20,
   "id": "a599119c",
   "metadata": {},
   "outputs": [],
   "source": [
    "#Bert layers\n",
    "text_input=Input(shape=(),dtype=tf.string)\n",
    "preprocess_text=bert_preprocess(text_input)\n",
    "outputs=bert_encoder(preprocess_text)\n",
    "\n",
    "#Neural network layers\n",
    "l=Dropout(0.1)(outputs[\"pooled_output\"])\n",
    "l2=Dense(units=1,activation=\"sigmoid\")(l)\n",
    "\n",
    "#Construct final model\n",
    "model=keras.Model(inputs=[text_input],outputs=[l2])\n"
   ]
  },
  {
   "cell_type": "code",
   "execution_count": 21,
   "id": "4bc80ca1",
   "metadata": {},
   "outputs": [
    {
     "name": "stdout",
     "output_type": "stream",
     "text": [
      "Model: \"model\"\n",
      "__________________________________________________________________________________________________\n",
      " Layer (type)                   Output Shape         Param #     Connected to                     \n",
      "==================================================================================================\n",
      " input_1 (InputLayer)           [(None,)]            0           []                               \n",
      "                                                                                                  \n",
      " keras_layer (KerasLayer)       {'input_type_ids':   0           ['input_1[0][0]']                \n",
      "                                (None, 128),                                                      \n",
      "                                 'input_word_ids':                                                \n",
      "                                (None, 128),                                                      \n",
      "                                 'input_mask': (Non                                               \n",
      "                                e, 128)}                                                          \n",
      "                                                                                                  \n",
      " keras_layer_1 (KerasLayer)     {'sequence_output':  109482241   ['keras_layer[0][0]',            \n",
      "                                 (None, 128, 768),                'keras_layer[0][1]',            \n",
      "                                 'pooled_output': (               'keras_layer[0][2]']            \n",
      "                                None, 768),                                                       \n",
      "                                 'default': (None,                                                \n",
      "                                768),                                                             \n",
      "                                 'encoder_outputs':                                               \n",
      "                                 [(None, 128, 768),                                               \n",
      "                                 (None, 128, 768),                                                \n",
      "                                 (None, 128, 768),                                                \n",
      "                                 (None, 128, 768),                                                \n",
      "                                 (None, 128, 768),                                                \n",
      "                                 (None, 128, 768),                                                \n",
      "                                 (None, 128, 768),                                                \n",
      "                                 (None, 128, 768),                                                \n",
      "                                 (None, 128, 768),                                                \n",
      "                                 (None, 128, 768),                                                \n",
      "                                 (None, 128, 768),                                                \n",
      "                                 (None, 128, 768)]}                                               \n",
      "                                                                                                  \n",
      " dropout (Dropout)              (None, 768)          0           ['keras_layer_1[0][13]']         \n",
      "                                                                                                  \n",
      " dense (Dense)                  (None, 1)            769         ['dropout[0][0]']                \n",
      "                                                                                                  \n",
      "==================================================================================================\n",
      "Total params: 109,483,010\n",
      "Trainable params: 769\n",
      "Non-trainable params: 109,482,241\n",
      "__________________________________________________________________________________________________\n"
     ]
    }
   ],
   "source": [
    "model.summary()"
   ]
  },
  {
   "cell_type": "code",
   "execution_count": 22,
   "id": "1ecb62a0",
   "metadata": {},
   "outputs": [],
   "source": [
    "model.compile(optimizer=\"adam\",loss=\"binary_crossentropy\",metrics=[\"accuracy\"])"
   ]
  },
  {
   "cell_type": "code",
   "execution_count": 23,
   "id": "f45b4e78",
   "metadata": {},
   "outputs": [
    {
     "name": "stdout",
     "output_type": "stream",
     "text": [
      "Epoch 1/5\n",
      "35/35 [==============================] - 733s 21s/step - loss: 0.6523 - accuracy: 0.5982\n",
      "Epoch 2/5\n",
      "35/35 [==============================] - 718s 21s/step - loss: 0.5077 - accuracy: 0.8214\n",
      "Epoch 3/5\n",
      "35/35 [==============================] - 719s 21s/step - loss: 0.4309 - accuracy: 0.8652\n",
      "Epoch 4/5\n",
      "35/35 [==============================] - 715s 20s/step - loss: 0.3928 - accuracy: 0.8768\n",
      "Epoch 5/5\n",
      "35/35 [==============================] - 715s 20s/step - loss: 0.3624 - accuracy: 0.8875\n"
     ]
    },
    {
     "data": {
      "text/plain": [
       "<keras.callbacks.History at 0x2702267d310>"
      ]
     },
     "execution_count": 23,
     "metadata": {},
     "output_type": "execute_result"
    }
   ],
   "source": [
    "model.fit(X_train,y_train,epochs=5)"
   ]
  },
  {
   "cell_type": "code",
   "execution_count": 24,
   "id": "6f30fdb5",
   "metadata": {},
   "outputs": [
    {
     "name": "stdout",
     "output_type": "stream",
     "text": [
      "1/1 [==============================] - 2s 2s/step\n"
     ]
    },
    {
     "data": {
      "text/plain": [
       "array([[0.07983191]], dtype=float32)"
      ]
     },
     "execution_count": 24,
     "metadata": {},
     "output_type": "execute_result"
    }
   ],
   "source": [
    "model.predict([\"Hello\"])"
   ]
  },
  {
   "cell_type": "code",
   "execution_count": 25,
   "id": "c3593021",
   "metadata": {},
   "outputs": [
    {
     "name": "stdout",
     "output_type": "stream",
     "text": [
      "12/12 [==============================] - 240s 20s/step\n"
     ]
    }
   ],
   "source": [
    "predictions=model.predict(X_test)"
   ]
  },
  {
   "cell_type": "code",
   "execution_count": 26,
   "id": "cc819570",
   "metadata": {},
   "outputs": [],
   "source": [
    "import numpy as np\n",
    "y_pred=np.where(predictions>0.5,1,0)"
   ]
  },
  {
   "cell_type": "code",
   "execution_count": 27,
   "id": "f6cfc690",
   "metadata": {},
   "outputs": [
    {
     "name": "stdout",
     "output_type": "stream",
     "text": [
      "              precision    recall  f1-score   support\n",
      "\n",
      "           0       0.93      0.89      0.91       187\n",
      "           1       0.90      0.94      0.92       187\n",
      "\n",
      "    accuracy                           0.91       374\n",
      "   macro avg       0.92      0.91      0.91       374\n",
      "weighted avg       0.92      0.91      0.91       374\n",
      "\n"
     ]
    }
   ],
   "source": [
    "from sklearn.metrics import classification_report,confusion_matrix\n",
    "print(classification_report(y_test,y_pred))"
   ]
  },
  {
   "cell_type": "code",
   "execution_count": null,
   "id": "ea858210",
   "metadata": {},
   "outputs": [],
   "source": []
  }
 ],
 "metadata": {
  "kernelspec": {
   "display_name": "Python 3 (ipykernel)",
   "language": "python",
   "name": "python3"
  },
  "language_info": {
   "codemirror_mode": {
    "name": "ipython",
    "version": 3
   },
   "file_extension": ".py",
   "mimetype": "text/x-python",
   "name": "python",
   "nbconvert_exporter": "python",
   "pygments_lexer": "ipython3",
   "version": "3.9.19"
  }
 },
 "nbformat": 4,
 "nbformat_minor": 5
}
